{
 "cells": [
  {
   "cell_type": "code",
   "execution_count": 1,
   "id": "f83d79be",
   "metadata": {},
   "outputs": [],
   "source": [
    "from bs4 import BeautifulSoup\n",
    "import requests"
   ]
  },
  {
   "cell_type": "code",
   "execution_count": 2,
   "id": "d49abdd5",
   "metadata": {},
   "outputs": [],
   "source": [
    "import json"
   ]
  },
  {
   "cell_type": "code",
   "execution_count": 3,
   "id": "2bd681ed",
   "metadata": {},
   "outputs": [],
   "source": [
    "from collections import OrderedDict"
   ]
  },
  {
   "cell_type": "code",
   "execution_count": 4,
   "id": "3bf8fe0b",
   "metadata": {},
   "outputs": [],
   "source": [
    "import pandas as pd"
   ]
  },
  {
   "cell_type": "code",
   "execution_count": 13,
   "id": "07f593cc",
   "metadata": {},
   "outputs": [],
   "source": [
    "class weatherAcquirer:\n",
    "\n",
    "    # constants\n",
    "    ORIGIN = \"https://api.weather.com/v1/location/{city}{suffix}/observations/historical.json?apiKey={key}&units=e&startDate={start}&endDate={end}\"\n",
    "    KEY = \"e1f10a1e78da46f5b10a1e78da96f525\"\n",
    "    COUNTRY_SUFFIX = \":9:US\"\n",
    "    DATES = {}\n",
    "    \n",
    "    # cache\n",
    "    log = {}\n",
    "    temperatures = {}\n",
    "    \n",
    "    def __init__(self):\n",
    "        ## dates\n",
    "        mo31 = [\"01\",\"03\",\"05\",\"07\",\"08\",\"10\",\"12\"]\n",
    "        mo30 = [\"04\",\"06\",\"09\",\"11\"]\n",
    "        mo28 = [\"02\"]\n",
    "        for mo in mo31:\n",
    "            self.DATES[mo] = \"31\"\n",
    "        for mo in mo30:\n",
    "            self.DATES[mo] = \"30\"\n",
    "        for mo in mo28:\n",
    "            self.DATES[mo] = \"28\"\n",
    "    \n",
    "    ## helper method: convert oF to oC\n",
    "    def f2c(self, temp_f):\n",
    "        return \"%.1f\" % ((temp_f - 32) / 1.8)\n",
    "    \n",
    "    # helper method: sort map\n",
    "    def sortByTimestamp(self):\n",
    "        self.temperatures = OrderedDict(sorted(self.temperatures.items()))\n",
    "    \n",
    "    ## helper method: merge two dictionaries.\n",
    "    def merge(self, dict1, dict2):\n",
    "        res = {**dict1, **dict2}\n",
    "        return res\n",
    "\n",
    "    \n",
    "    def acquireMonthlyTemp(self, city:str, year:str, month:str):\n",
    "        errorlog = {}\n",
    "        temperatures = {}\n",
    "        start = year + month + \"01\"\n",
    "        end = year + month + self.DATES[month]\n",
    "        url = self.ORIGIN.format(city = city, suffix = self.COUNTRY_SUFFIX, key = self.KEY, start = start, end = end)\n",
    "        r = requests.get(url)\n",
    "        content = json.loads(r.content)\n",
    "        if content['metadata']['status_code'] != 200:\n",
    "            errorlog[mo] = \"status code 400\"\n",
    "        # log temperatures\n",
    "        for observation in content['observations']:\n",
    "            temperatures[observation['expire_time_gmt']] = self.f2c(observation['temp'])\n",
    "        print(\"{year}/{month} temperature for {city} complete\".format(year = year, month = month, city = city))\n",
    "        \n",
    "        # cache.\n",
    "        self.log = self.merge(self.log, errorlog)\n",
    "        self.temperatures = self.merge(self.temperatures ,temperatures)\n",
    "        return errorlog, temperatures\n",
    "    \n",
    "    \n",
    "    def acquireAnnualTemp(self, city:str, year:str):\n",
    "        errorlog = {}\n",
    "        temperatures = {}\n",
    "        for mo in self.DATES:\n",
    "            prevErrorlog, prevTemps = self.acquireMonthlyTemp(city, year, mo)\n",
    "            # merge errorlog and temperature map.\n",
    "            errorlog = self.merge(errorlog, prevErrorlog)\n",
    "            temperatures = self.merge(temperatures, prevTemps)\n",
    "        print(\"{year} temperature for {city} complete\".format(year = year, city = city))\n",
    "        \n",
    "        # cache.\n",
    "        self.log = self.merge(self.log, errorlog)\n",
    "        self.temperatures = self.merge(self.temperatures ,temperatures)\n",
    "        return errorlog, temperatures"
   ]
  },
  {
   "cell_type": "code",
   "execution_count": 16,
   "id": "90a309ec",
   "metadata": {},
   "outputs": [
    {
     "name": "stdout",
     "output_type": "stream",
     "text": [
      "2017/12 temperature for KPIT complete\n",
      "2018/01 temperature for KPIT complete\n",
      "2018/03 temperature for KPIT complete\n",
      "2018/05 temperature for KPIT complete\n",
      "2018/07 temperature for KPIT complete\n",
      "2018/08 temperature for KPIT complete\n",
      "2018/10 temperature for KPIT complete\n",
      "2018/12 temperature for KPIT complete\n",
      "2018/04 temperature for KPIT complete\n",
      "2018/06 temperature for KPIT complete\n",
      "2018/09 temperature for KPIT complete\n",
      "2018/11 temperature for KPIT complete\n",
      "2018/02 temperature for KPIT complete\n",
      "2018 temperature for KPIT complete\n"
     ]
    }
   ],
   "source": [
    "ac = weatherAcquirer()\n",
    "ac.acquireMonthlyTemp(\"KPIT\", \"2017\", \"12\")\n",
    "ac.acquireAnnualTemp(\"KPIT\", \"2018\")"
   ]
  },
  {
   "cell_type": "code",
   "execution_count": null,
   "id": "00c71538",
   "metadata": {},
   "outputs": [],
   "source": [
    "ac.sortByTimestamp()"
   ]
  },
  {
   "cell_type": "code",
   "execution_count": 17,
   "id": "157bb316",
   "metadata": {},
   "outputs": [],
   "source": [
    "df = pd.DataFrame({'timestamp':ac.temperatures.keys(), 'pit':ac.temperatures.values()})"
   ]
  },
  {
   "cell_type": "code",
   "execution_count": 18,
   "id": "4422b25d",
   "metadata": {},
   "outputs": [],
   "source": [
    "df['timestamp'] = pd.to_datetime(df['timestamp'],unit='s')"
   ]
  },
  {
   "cell_type": "code",
   "execution_count": 19,
   "id": "2f679157",
   "metadata": {},
   "outputs": [],
   "source": [
    "df.set_index('timestamp', inplace=True) # set column 'date' to index"
   ]
  },
  {
   "cell_type": "code",
   "execution_count": 20,
   "id": "dcc44633",
   "metadata": {},
   "outputs": [
    {
     "data": {
      "text/html": [
       "<div>\n",
       "<style scoped>\n",
       "    .dataframe tbody tr th:only-of-type {\n",
       "        vertical-align: middle;\n",
       "    }\n",
       "\n",
       "    .dataframe tbody tr th {\n",
       "        vertical-align: top;\n",
       "    }\n",
       "\n",
       "    .dataframe thead th {\n",
       "        text-align: right;\n",
       "    }\n",
       "</style>\n",
       "<table border=\"1\" class=\"dataframe\">\n",
       "  <thead>\n",
       "    <tr style=\"text-align: right;\">\n",
       "      <th></th>\n",
       "      <th>pit</th>\n",
       "    </tr>\n",
       "    <tr>\n",
       "      <th>timestamp</th>\n",
       "      <th></th>\n",
       "    </tr>\n",
       "  </thead>\n",
       "  <tbody>\n",
       "    <tr>\n",
       "      <th>2017-12-01 07:51:00</th>\n",
       "      <td>3.9</td>\n",
       "    </tr>\n",
       "    <tr>\n",
       "      <th>2017-12-01 08:51:00</th>\n",
       "      <td>1.7</td>\n",
       "    </tr>\n",
       "    <tr>\n",
       "      <th>2017-12-01 09:51:00</th>\n",
       "      <td>2.2</td>\n",
       "    </tr>\n",
       "    <tr>\n",
       "      <th>2017-12-01 10:51:00</th>\n",
       "      <td>1.7</td>\n",
       "    </tr>\n",
       "    <tr>\n",
       "      <th>2017-12-01 11:05:00</th>\n",
       "      <td>2.2</td>\n",
       "    </tr>\n",
       "    <tr>\n",
       "      <th>...</th>\n",
       "      <td>...</td>\n",
       "    </tr>\n",
       "    <tr>\n",
       "      <th>2019-01-01 04:51:00</th>\n",
       "      <td>15.6</td>\n",
       "    </tr>\n",
       "    <tr>\n",
       "      <th>2019-01-01 05:06:00</th>\n",
       "      <td>15.6</td>\n",
       "    </tr>\n",
       "    <tr>\n",
       "      <th>2019-01-01 05:51:00</th>\n",
       "      <td>16.1</td>\n",
       "    </tr>\n",
       "    <tr>\n",
       "      <th>2019-01-01 06:08:00</th>\n",
       "      <td>16.1</td>\n",
       "    </tr>\n",
       "    <tr>\n",
       "      <th>2019-01-01 06:51:00</th>\n",
       "      <td>16.1</td>\n",
       "    </tr>\n",
       "  </tbody>\n",
       "</table>\n",
       "<p>11233 rows × 1 columns</p>\n",
       "</div>"
      ],
      "text/plain": [
       "                      pit\n",
       "timestamp                \n",
       "2017-12-01 07:51:00   3.9\n",
       "2017-12-01 08:51:00   1.7\n",
       "2017-12-01 09:51:00   2.2\n",
       "2017-12-01 10:51:00   1.7\n",
       "2017-12-01 11:05:00   2.2\n",
       "...                   ...\n",
       "2019-01-01 04:51:00  15.6\n",
       "2019-01-01 05:06:00  15.6\n",
       "2019-01-01 05:51:00  16.1\n",
       "2019-01-01 06:08:00  16.1\n",
       "2019-01-01 06:51:00  16.1\n",
       "\n",
       "[11233 rows x 1 columns]"
      ]
     },
     "execution_count": 20,
     "metadata": {},
     "output_type": "execute_result"
    }
   ],
   "source": [
    "df"
   ]
  },
  {
   "cell_type": "code",
   "execution_count": 57,
   "id": "bb27a67f",
   "metadata": {},
   "outputs": [],
   "source": [
    "# KDCA:9:US\n",
    "# PANC:9:US"
   ]
  },
  {
   "cell_type": "markdown",
   "id": "91e73ba6",
   "metadata": {},
   "source": [
    "### load temperature for selected range of date"
   ]
  },
  {
   "cell_type": "code",
   "execution_count": null,
   "id": "a84e45d7",
   "metadata": {},
   "outputs": [],
   "source": []
  }
 ],
 "metadata": {
  "kernelspec": {
   "display_name": "Python 3",
   "language": "python",
   "name": "python3"
  },
  "language_info": {
   "codemirror_mode": {
    "name": "ipython",
    "version": 3
   },
   "file_extension": ".py",
   "mimetype": "text/x-python",
   "name": "python",
   "nbconvert_exporter": "python",
   "pygments_lexer": "ipython3",
   "version": "3.8.8"
  }
 },
 "nbformat": 4,
 "nbformat_minor": 5
}
